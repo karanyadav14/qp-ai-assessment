{
 "cells": [
  {
   "cell_type": "markdown",
   "metadata": {},
   "source": [
    "## Milvus"
   ]
  },
  {
   "cell_type": "code",
   "execution_count": null,
   "metadata": {},
   "outputs": [],
   "source": [
    "import pymilvus\n",
    "from pymilvus import MilvusClient\n",
    "from pymilvus import connections\n",
    "import ollama"
   ]
  },
  {
   "cell_type": "code",
   "execution_count": 8,
   "metadata": {},
   "outputs": [],
   "source": [
    "client = MilvusClient(\"milvus_demo.db\")"
   ]
  },
  {
   "cell_type": "markdown",
   "metadata": {},
   "source": [
    "#### Create Collection"
   ]
  },
  {
   "cell_type": "code",
   "execution_count": 9,
   "metadata": {},
   "outputs": [],
   "source": [
    "if client.has_collection(collection_name=\"demo_collection\"):\n",
    "    client.drop_collection(collection_name=\"demo_collection\")\n",
    "\n",
    "client.create_collection(\n",
    "    collection_name=\"demo_collection\",\n",
    "    dimension=768\n",
    ")"
   ]
  },
  {
   "cell_type": "code",
   "execution_count": null,
   "metadata": {},
   "outputs": [],
   "source": [
    "connections.connect(alias=\"default\", host=\"127.0.0.1\", port=\"19530\")"
   ]
  },
  {
   "cell_type": "code",
   "execution_count": 2,
   "metadata": {},
   "outputs": [],
   "source": [
    "collection_name = \"demo\"\n",
    "dim = 800\n",
    "collection = create_milvus_collection(collection_name, dim)"
   ]
  },
  {
   "cell_type": "code",
   "execution_count": 3,
   "metadata": {},
   "outputs": [
    {
     "data": {
      "text/plain": [
       "<bound method Collection.describe of <Collection>:\n",
       "-------------\n",
       "<name>: demo\n",
       "<description>: Document embeddings\n",
       "<schema>: {'auto_id': True, 'description': 'Document embeddings', 'fields': [{'name': 'id', 'description': '', 'type': <DataType.INT64: 5>, 'is_primary': True, 'auto_id': True}, {'name': 'embedding', 'description': '', 'type': <DataType.FLOAT_VECTOR: 101>, 'params': {'dim': 800}}, {'name': 'text', 'description': '', 'type': <DataType.VARCHAR: 21>, 'params': {'max_length': 500}}], 'enable_dynamic_field': False}\n",
       ">"
      ]
     },
     "execution_count": 3,
     "metadata": {},
     "output_type": "execute_result"
    }
   ],
   "source": [
    "collection.describe"
   ]
  },
  {
   "cell_type": "code",
   "execution_count": null,
   "metadata": {},
   "outputs": [],
   "source": []
  },
  {
   "cell_type": "markdown",
   "metadata": {},
   "source": [
    "#### List DB"
   ]
  },
  {
   "cell_type": "code",
   "execution_count": 8,
   "metadata": {},
   "outputs": [
    {
     "data": {
      "text/plain": [
       "['default']"
      ]
     },
     "execution_count": 8,
     "metadata": {},
     "output_type": "execute_result"
    }
   ],
   "source": [
    "from pymilvus import db, connections, Collection, utility\n",
    "connections.connect(alias=\"default\", host=\"127.0.0.1\", port=\"19530\")\n",
    "db.list_database()"
   ]
  },
  {
   "cell_type": "code",
   "execution_count": 10,
   "metadata": {},
   "outputs": [
    {
     "data": {
      "text/plain": [
       "<function pymilvus.orm.utility.list_collections(timeout: Optional[float] = None, using: str = 'default') -> list>"
      ]
     },
     "execution_count": 10,
     "metadata": {},
     "output_type": "execute_result"
    }
   ],
   "source": [
    "utility.list_collections"
   ]
  },
  {
   "cell_type": "markdown",
   "metadata": {},
   "source": [
    "### Test functions"
   ]
  },
  {
   "cell_type": "code",
   "execution_count": 116,
   "metadata": {},
   "outputs": [],
   "source": [
    "import numpy as np\n",
    "from pymilvus import connections, FieldSchema, CollectionSchema, Collection, DataType\n",
    "from sentence_transformers import SentenceTransformer\n",
    "\n",
    "def create_milvus_collection(collection_name, dim):\n",
    "    connections.connect(alias=\"default\", host=\"127.0.0.1\", port=\"19530\")\n",
    "    utility.drop_collection(collection_name)\n",
    "\n",
    "    fields = [\n",
    "        FieldSchema(name=\"id\", dtype=DataType.INT64, is_primary=True, enable_dynamic_field=True, auto_id=True),\n",
    "        FieldSchema(name=\"embedding\", dtype=DataType.FLOAT_VECTOR, dim=dim),\n",
    "        FieldSchema(name=\"text\", dtype=DataType.VARCHAR, max_length=65535)\n",
    "    ]\n",
    "\n",
    "    schema = CollectionSchema(fields, description=\"Document embeddings\")\n",
    "    collection = Collection(name=collection_name, schema=schema)\n",
    "\n",
    "    index_params = {\n",
    "        \"metric_type\":\"L2\",\n",
    "        \"index_type\":\"IVF_FLAT\",\n",
    "        \"params\":{\"nlist\":1024}\n",
    "        }\n",
    "    collection.create_index(\n",
    "        field_name=\"embedding\", \n",
    "        index_params=index_params\n",
    "        )\n",
    "    return collection\n",
    "\n",
    "\n",
    "\n",
    "def load_documents_to_milvus(collection, documents, embedder_model=\"all-MiniLM-L6-v2\"):\n",
    "    embedder = SentenceTransformer(embedder_model)\n",
    "    texts = [doc.page_content for doc in documents]\n",
    "    embeddings = embedder.encode(texts)\n",
    "\n",
    "    # print(type(embeddings))\n",
    "    # embeddings = np.array(embeddings, dtype=np.float32).tolist()\n",
    "   \n",
    "    # Prepare data for insertion\n",
    "    data = [\n",
    "        # [i for i in range(len(texts))],  # Auto-generated IDs\n",
    "        embeddings,\n",
    "        texts\n",
    "    ]\n",
    "\n",
    "    # data = [\n",
    "    #     {\"name\": \"id\",  \"type\":DataType.INT64, \"values\": [i for i in range(len(texts))]},\n",
    "    #     {\"name\":\"embedding\", \"type\": DataType.FLOAT_VECTOR, \"values\":embeddings}\n",
    "    # ]\n",
    "    # data = [\n",
    "    #     {\"id\": i, \"embedding\": embeddings[i]} for i in range(len(texts)) # Auto-generated IDs\n",
    "    # ]\n",
    "    # data = [\n",
    "    #     [i for i in range(len(texts))],  # Auto-generated IDs\n",
    "    #     embeddings\n",
    "    # ]\n",
    "    collection.insert(data)\n",
    "    collection.load()"
   ]
  },
  {
   "cell_type": "code",
   "execution_count": 117,
   "metadata": {},
   "outputs": [
    {
     "name": "stdout",
     "output_type": "stream",
     "text": [
      "Could not process given document: CV_Karan_Yadav.pdf\n"
     ]
    }
   ],
   "source": [
    "import os\n",
    "from langchain_community.document_loaders import TextLoader\n",
    "from langchain.text_splitter import CharacterTextSplitter\n",
    "\n",
    "\n",
    "local_folder = \"docs\"\n",
    "embedder_model = \"all-MiniLM-L6-v2\"\n",
    "collection_name = \"demo\"\n",
    "\n",
    "all_docs = []\n",
    "\n",
    "for filename in os.listdir(local_folder):\n",
    "    file_path = os.path.join(local_folder, filename)\n",
    "\n",
    "    if os.path.isfile(file_path):\n",
    "        try:\n",
    "            loader = TextLoader(file_path)\n",
    "            documents = loader.load()\n",
    "\n",
    "            if documents:\n",
    "                splitter = CharacterTextSplitter(chunk_size=650, chunk_overlap=50)\n",
    "                docs = splitter.split_documents(documents)\n",
    "                all_docs.extend(docs)\n",
    "        except Exception as e:\n",
    "            print(f\"Could not process given document: {filename}\")\n",
    "            # st.error(f\"Error loading file {filename}: {str(e)}\")\n",
    "\n",
    "\n",
    "# print(all_docs[0].page_content)\n",
    "# # Connect to Milvus and create the collection\n",
    "collection = create_milvus_collection(collection_name, dim=384)\n",
    "\n",
    "# # Insert documents into Milvus\n",
    "load_documents_to_milvus(collection, all_docs, embedder_model)"
   ]
  },
  {
   "cell_type": "code",
   "execution_count": 126,
   "metadata": {},
   "outputs": [
    {
     "name": "stdout",
     "output_type": "stream",
     "text": [
      "[np.float32(0.023330953), np.float32(-0.08322821), np.float32(0.05691806), np.float32(-0.014981589), np.float32(0.023899054), np.float32(-0.010970449), np.float32(-0.047621105), np.float32(0.0068928795), np.float32(0.027451416), np.float32(-0.02604323), np.float32(-0.04605433), np.float32(0.006422947), np.float32(0.036969822), np.float32(0.0040245354), np.float32(0.0058321357), np.float32(0.044590637), np.float32(0.10430169), np.float32(0.04001954), np.float32(-0.07911644), np.float32(-0.09331284), np.float32(0.056112804), np.float32(0.08929409), np.float32(-0.007907887), np.float32(-0.0032908088), np.float32(0.0028501258), np.float32(0.052074444), np.float32(-0.00043003337), np.float32(0.009256244), np.float32(0.05408881), np.float32(-0.043794878), np.float32(0.055130575), np.float32(0.051674724), np.float32(0.01822354), np.float32(0.116131715), np.float32(-0.06061761), np.float32(0.06370466), np.float32(-0.10248386), np.float32(-0.027710002), np.float32(0.014741023), np.float32(-0.008814171), np.float32(0.007552363), np.float32(-0.021008907), np.float32(0.062938064), np.float32(-0.02645561), np.float32(0.13036805), np.float32(0.031229958), np.float32(-0.061235394), np.float32(0.007451369), np.float32(-0.059486497), np.float32(0.047064155), np.float32(-0.054115795), np.float32(-0.07497184), np.float32(-0.011246457), np.float32(0.106800415), np.float32(-0.039171446), np.float32(-0.040200457), np.float32(0.034806892), np.float32(0.0034825304), np.float32(-0.042162113), np.float32(-0.055376235), np.float32(-0.030588528), np.float32(-0.09579079), np.float32(-0.02872133), np.float32(0.028717676), np.float32(-0.007897775), np.float32(0.0018195634), np.float32(0.02189793), np.float32(0.10730222), np.float32(-0.0239109), np.float32(-0.060659852), np.float32(0.014644607), np.float32(-0.0006096881), np.float32(0.01137365), np.float32(0.09178056), np.float32(-0.035557386), np.float32(-0.052373726), np.float32(0.024859175), np.float32(0.0027198398), np.float32(0.114858896), np.float32(-0.03761429), np.float32(-0.011269746), np.float32(0.032458987), np.float32(0.06527961), np.float32(-0.0010442925), np.float32(0.09572517), np.float32(-0.024971575), np.float32(-0.019267412), np.float32(0.02457913), np.float32(-0.010986762), np.float32(-0.012330844), np.float32(-0.020420792), np.float32(-0.11500767), np.float32(0.016168695), np.float32(0.0022429437), np.float32(-0.032219063), np.float32(0.04503222), np.float32(-0.023021098), np.float32(-0.07109405), np.float32(-0.01220824), np.float32(0.043219645), np.float32(0.015876487), np.float32(0.09073336), np.float32(0.058605116), np.float32(-0.032441232), np.float32(-0.04233779), np.float32(-0.057076264), np.float32(-0.0020179516), np.float32(0.07061646), np.float32(0.04037692), np.float32(-0.09228714), np.float32(0.016602792), np.float32(0.08146579), np.float32(0.025537787), np.float32(0.03358703), np.float32(0.07222899), np.float32(-0.10353535), np.float32(0.08241018), np.float32(-0.06297325), np.float32(-0.013356923), np.float32(0.06551369), np.float32(-0.11461866), np.float32(0.016465083), np.float32(-0.007273775), np.float32(-0.0051810523), np.float32(0.0013762026), np.float32(0.0074866028), np.float32(-0.04657487), np.float32(-6.159878e-34), np.float32(0.061234303), np.float32(0.010142322), np.float32(-0.0123841595), np.float32(0.0660648), np.float32(0.07141612), np.float32(0.022160394), np.float32(0.055650197), np.float32(0.071245976), np.float32(-0.050998654), np.float32(0.035539273), np.float32(-0.07159751), np.float32(0.037648425), np.float32(-0.027167423), np.float32(0.059390083), np.float32(0.02279276), np.float32(-0.011910972), np.float32(-0.003951204), np.float32(0.022427417), np.float32(-0.009484919), np.float32(-0.05755268), np.float32(0.010993545), np.float32(0.02512272), np.float32(0.076150455), np.float32(-0.04753769), np.float32(0.01509473), np.float32(0.06871639), np.float32(0.11137323), np.float32(-0.019273529), np.float32(0.004491588), np.float32(0.0111111635), np.float32(-0.08233278), np.float32(-0.006311642), np.float32(-0.017351422), np.float32(0.0111669), np.float32(0.0418658), np.float32(-0.014512883), np.float32(-0.074645095), np.float32(-0.0073824977), np.float32(0.06305943), np.float32(-0.08266837), np.float32(-0.0011711249), np.float32(0.0025699004), np.float32(0.015338352), np.float32(-0.04571429), np.float32(-0.07962166), np.float32(0.025820067), np.float32(0.0028818059), np.float32(-0.05776925), np.float32(-0.017968759), np.float32(-0.046270367), np.float32(0.11492515), np.float32(-0.053556647), np.float32(-0.097437635), np.float32(-0.005823906), np.float32(0.08274903), np.float32(0.035627432), np.float32(-0.02023826), np.float32(0.042866707), np.float32(-0.021298476), np.float32(0.020892067), np.float32(0.0023382392), np.float32(0.016251015), np.float32(-0.0010669642), np.float32(0.08934491), np.float32(0.12913463), np.float32(-0.017578617), np.float32(-0.02961445), np.float32(0.07229212), np.float32(0.049304456), np.float32(-0.037432767), np.float32(0.019996587), np.float32(-0.012653648), np.float32(0.03869154), np.float32(0.0037840994), np.float32(-0.06892034), np.float32(-0.049607083), np.float32(0.036265213), np.float32(-0.04943995), np.float32(0.00721778), np.float32(0.07811205), np.float32(0.028550832), np.float32(-0.00693759), np.float32(0.02150945), np.float32(-0.09586918), np.float32(0.0008730473), np.float32(-0.004565379), np.float32(0.0108905), np.float32(-0.09485705), np.float32(0.025134541), np.float32(-0.014266674), np.float32(-0.037707206), np.float32(-0.03568358), np.float32(0.018668106), np.float32(0.020008216), np.float32(-0.034458715), np.float32(4.042678e-35), np.float32(-0.04409676), np.float32(0.010952717), np.float32(-0.10001626), np.float32(0.10823635), np.float32(0.0037014883), np.float32(-0.10406633), np.float32(-0.06343702), np.float32(0.13633512), np.float32(-0.091912985), np.float32(0.005535029), np.float32(0.0121044265), np.float32(-0.04583648), np.float32(0.07048189), np.float32(-0.031501904), np.float32(0.054724827), np.float32(-0.06757965), np.float32(0.06580237), np.float32(-0.062871054), np.float32(0.02031354), np.float32(0.022901244), np.float32(-0.04822953), np.float32(0.063560806), np.float32(-0.08734931), np.float32(0.022431105), np.float32(-0.057445765), np.float32(0.010384687), np.float32(-0.06654498), np.float32(0.034059923), np.float32(0.020272998), np.float32(0.069894865), np.float32(0.026507), np.float32(-0.0468499), np.float32(-0.037446726), np.float32(0.016657043), np.float32(-0.08314127), np.float32(0.017601077), np.float32(0.035414852), np.float32(0.026279382), np.float32(0.0102116745), np.float32(0.024832372), np.float32(0.043970633), np.float32(-0.044953357), np.float32(-0.037687697), np.float32(0.02585553), np.float32(-0.030737426), np.float32(-0.009551986), np.float32(-0.08363696), np.float32(-0.021432552), np.float32(0.053347364), np.float32(-0.053118724), np.float32(-0.0050708875), np.float32(-0.065290704), np.float32(0.008407881), np.float32(-0.03802967), np.float32(-0.041856598), np.float32(-0.095367044), np.float32(-0.02597183), np.float32(-0.0672569), np.float32(-0.032331202), np.float32(-0.06365384), np.float32(-0.054257095), np.float32(-0.032457888), np.float32(0.0028879405), np.float32(-0.0687565), np.float32(-0.011299119), np.float32(-0.023070708), np.float32(-0.079834305), np.float32(-0.002123214), np.float32(-0.023525516), np.float32(-0.016221318), np.float32(0.10351787), np.float32(-0.014572743), np.float32(-0.04510672), np.float32(0.050208572), np.float32(-0.01506697), np.float32(-0.07046957), np.float32(-0.051742956), np.float32(-0.044154648), np.float32(0.011718061), np.float32(-0.08591807), np.float32(0.05110143), np.float32(-0.012754502), np.float32(-0.0057700747), np.float32(0.09678088), np.float32(0.040245954), np.float32(-0.0055322023), np.float32(-0.008804667), np.float32(0.08759928), np.float32(9.7951335e-05), np.float32(0.009823251), np.float32(0.0026157494), np.float32(0.062995195), np.float32(0.020898197), np.float32(0.01826726), np.float32(-0.06479053), np.float32(-3.551516e-08), np.float32(-0.068668015), np.float32(-0.016246278), np.float32(-0.016678309), np.float32(0.011049044), np.float32(-0.0074963113), np.float32(-0.050171837), np.float32(-0.042372514), np.float32(0.117289096), np.float32(0.034152504), np.float32(0.016214099), np.float32(0.041607928), np.float32(0.0027202594), np.float32(-0.07593064), np.float32(-0.028364874), np.float32(0.042342655), np.float32(0.06321602), np.float32(0.063830666), np.float32(0.026472086), np.float32(0.011023102), np.float32(-0.01514368), np.float32(0.07905704), np.float32(0.03996918), np.float32(0.01298089), np.float32(0.036890764), np.float32(0.11430594), np.float32(-0.036554985), np.float32(-0.048566777), np.float32(0.11233227), np.float32(-0.008041048), np.float32(0.010019154), np.float32(-0.05181023), np.float32(-0.009292974), np.float32(-0.07638958), np.float32(0.034977023), np.float32(0.0639079), np.float32(0.07768879), np.float32(0.028851334), np.float32(-0.076557934), np.float32(0.08539502), np.float32(-0.07185369), np.float32(0.012046874), np.float32(0.027871152), np.float32(-0.040500265), np.float32(0.056089006), np.float32(-0.03254293), np.float32(-0.0053647077), np.float32(0.0002995124), np.float32(-0.12840441), np.float32(0.0051710415), np.float32(-0.008409952), np.float32(-0.03277481), np.float32(0.0064309454), np.float32(0.033326857), np.float32(0.06567338), np.float32(-0.009539258), np.float32(0.03127136), np.float32(0.025544705), np.float32(-0.03786126), np.float32(0.052659914), np.float32(0.0050945734), np.float32(-0.0050583356), np.float32(0.02826756), np.float32(-0.027224518), np.float32(0.010806181)]\n",
      "Understanding Large Language Models (LLMs)\n",
      "Large Language Models (LLMs) are a type of artificial intelligence designed to understand, generate, and manipulate human language. \n",
      "These models are built using deep learning architectures, primarily transformers, which allow them to process vast amounts of text data and learn complex patterns in language. \n",
      "At their core, LLMs are trained on diverse datasets that encompass a wide range of topics, styles, and contexts, enabling them to perform various language-related tasks effectively.\n",
      "\n",
      "[np.float32(0.025848309), np.float32(-0.012090062), np.float32(-0.015932808), np.float32(-0.028758861), np.float32(0.024833703), np.float32(-0.0004212409), np.float32(0.032383524), np.float32(0.042245083), np.float32(0.09365837), np.float32(-0.026263954), np.float32(0.0030232654), np.float32(0.028473472), np.float32(0.03094568), np.float32(0.0042840396), np.float32(0.048221223), np.float32(0.047921274), np.float32(0.06330912), np.float32(0.0071229814), np.float32(-0.10694913), np.float32(-0.1218611), np.float32(0.07048934), np.float32(0.053096313), np.float32(0.02344968), np.float32(-0.010595211), np.float32(-0.045206066), np.float32(0.09823246), np.float32(-0.030869357), np.float32(-0.023931779), np.float32(0.037231125), np.float32(-0.06171494), np.float32(0.030069007), np.float32(0.001499975), np.float32(0.012208891), np.float32(0.13969526), np.float32(-0.109146066), np.float32(0.04882351), np.float32(-0.058387645), np.float32(-0.024744485), np.float32(-0.023125019), np.float32(-0.07776743), np.float32(-0.04202021), np.float32(-0.039901834), np.float32(0.008728869), np.float32(0.015675118), np.float32(0.08724052), np.float32(-0.025869744), np.float32(-0.0048505343), np.float32(0.01127206), np.float32(-0.034385372), np.float32(-0.055078436), np.float32(-0.09878371), np.float32(-0.12324426), np.float32(-0.024040664), np.float32(0.079467304), np.float32(-0.067282185), np.float32(0.116724014), np.float32(0.035868112), np.float32(0.047219075), np.float32(-0.033240784), np.float32(-0.0697211), np.float32(-0.05306938), np.float32(-0.041396894), np.float32(-0.011460826), np.float32(0.016193315), np.float32(0.030305458), np.float32(-0.0032958826), np.float32(0.044321053), np.float32(0.013656237), np.float32(-0.056095343), np.float32(-0.03198906), np.float32(0.0053007933), np.float32(0.0012231523), np.float32(0.06972506), np.float32(0.048875), np.float32(0.016117902), np.float32(0.021476744), np.float32(0.05098913), np.float32(-0.014795535), np.float32(0.109476745), np.float32(-0.030408874), np.float32(0.019665044), np.float32(-0.046258777), np.float32(0.012655989), np.float32(0.06105375), np.float32(0.095288254), np.float32(0.0040824157), np.float32(-0.015134858), np.float32(-0.02682307), np.float32(-0.059405003), np.float32(0.019253472), np.float32(-0.0337472), np.float32(-0.2068287), np.float32(0.0016589686), np.float32(-0.024623062), np.float32(0.03662452), np.float32(0.008534992), np.float32(-0.02916107), np.float32(-0.07346243), np.float32(-0.021260034), np.float32(-0.0054995534), np.float32(0.05042161), np.float32(0.027542604), np.float32(0.07113662), np.float32(0.008520892), np.float32(-0.07184566), np.float32(-0.04965484), np.float32(-0.017856043), np.float32(0.057944067), np.float32(-0.016848912), np.float32(-0.10037546), np.float32(-0.03506405), np.float32(0.026214568), np.float32(0.0194578), np.float32(-0.091880836), np.float32(0.032063674), np.float32(-0.10228461), np.float32(0.0273589), np.float32(-0.008143308), np.float32(0.032429274), np.float32(0.0064549255), np.float32(-0.016901217), np.float32(0.01451784), np.float32(-0.05883654), np.float32(0.012437578), np.float32(0.041782796), np.float32(-0.0370655), np.float32(-0.008435732), np.float32(1.7016978e-33), np.float32(0.008623636), np.float32(0.027319716), np.float32(-0.04645254), np.float32(0.058215186), np.float32(-0.004075462), np.float32(-0.02221416), np.float32(0.02940365), np.float32(0.022411428), np.float32(-0.03885884), np.float32(0.023946341), np.float32(-0.00036521643), np.float32(0.07488077), np.float32(0.01859127), np.float32(0.07533613), np.float32(0.003072288), np.float32(-0.051295053), np.float32(-0.01625025), np.float32(0.04987785), np.float32(-0.02018572), np.float32(-0.033224896), np.float32(-0.01704424), np.float32(0.09041894), np.float32(0.072072595), np.float32(-0.07568613), np.float32(-0.0033093728), np.float32(0.019236915), np.float32(0.074725635), np.float32(-0.07635339), np.float32(-0.045472182), np.float32(0.0004895741), np.float32(-0.08802573), np.float32(0.0558282), np.float32(-0.029794913), np.float32(-0.022448866), np.float32(0.057642095), np.float32(-0.048112087), np.float32(-0.0417066), np.float32(-0.062433973), np.float32(0.065612376), np.float32(-0.07734454), np.float32(0.0023431687), np.float32(0.055880748), np.float32(-0.037846074), np.float32(-0.004478045), np.float32(-0.047392473), np.float32(0.030849943), np.float32(-0.02717165), np.float32(0.022749454), np.float32(0.05959094), np.float32(-0.03714137), np.float32(0.09787948), np.float32(-0.0010442573), np.float32(-0.112936296), np.float32(0.014886784), np.float32(0.09122978), np.float32(0.054091915), np.float32(0.020803254), np.float32(0.03583848), np.float32(0.017716352), np.float32(0.02364536), np.float32(-0.020948788), np.float32(0.04119782), np.float32(0.0021280423), np.float32(0.06221562), np.float32(0.14397666), np.float32(-0.007247374), np.float32(-0.018635256), np.float32(0.062938444), np.float32(0.046928335), np.float32(0.008340193), np.float32(-0.03850611), np.float32(-0.007101573), np.float32(-0.0592947), np.float32(0.0074402173), np.float32(-0.0016482085), np.float32(0.009316699), np.float32(0.021861123), np.float32(-0.062336355), np.float32(0.044081517), np.float32(0.005294678), np.float32(0.015547133), np.float32(-0.056405872), np.float32(0.029947588), np.float32(0.008036814), np.float32(-0.049773525), np.float32(0.0071747373), np.float32(0.054928362), np.float32(-0.09648394), np.float32(-0.0076644816), np.float32(-0.0164405), np.float32(0.02131765), np.float32(0.02181127), np.float32(0.00372943), np.float32(0.053445153), np.float32(-0.024988057), np.float32(-1.564584e-33), np.float32(-0.039210528), np.float32(-0.02627246), np.float32(-0.07222146), np.float32(0.09008944), np.float32(0.0003355778), np.float32(-0.031695105), np.float32(-0.014994526), np.float32(0.0051190923), np.float32(-0.038071018), np.float32(0.03949869), np.float32(-0.030562907), np.float32(-0.04023806), np.float32(0.037919715), np.float32(-0.016445803), np.float32(0.04057187), np.float32(-0.009186268), np.float32(0.033346884), np.float32(-0.053697646), np.float32(-0.0592634), np.float32(0.01178266), np.float32(0.000702257), np.float32(0.10979031), np.float32(-0.06646401), np.float32(-0.037874687), np.float32(-0.05305093), np.float32(0.04453362), np.float32(-0.08091984), np.float32(0.03623806), np.float32(0.024179598), np.float32(-0.013443149), np.float32(0.006784839), np.float32(0.0067298966), np.float32(0.030770276), np.float32(-0.008935175), np.float32(-0.042861696), np.float32(0.039573394), np.float32(0.005973646), np.float32(-0.014611811), np.float32(-0.014515424), np.float32(0.0016173489), np.float32(0.018353645), np.float32(-0.010539811), np.float32(-0.02242877), np.float32(0.024769949), np.float32(-0.06569169), np.float32(-0.033407304), np.float32(-0.08258094), np.float32(-0.026727593), np.float32(-0.02484872), np.float32(0.055976197), np.float32(-0.024360009), np.float32(-0.0018658171), np.float32(-0.028052144), np.float32(-0.06455232), np.float32(-0.047648937), np.float32(-0.032087196), np.float32(0.012344814), np.float32(-0.09326016), np.float32(0.0408306), np.float32(-0.048284866), np.float32(0.02381469), np.float32(-0.01272828), np.float32(0.055387948), np.float32(-0.10968745), np.float32(0.031646896), np.float32(-0.03120483), np.float32(0.010724631), np.float32(-0.05923595), np.float32(0.018430583), np.float32(-0.0458349), np.float32(0.12844965), np.float32(0.009941345), np.float32(-0.03867602), np.float32(-0.014961415), np.float32(-0.00073171576), np.float32(-0.034035884), np.float32(0.013296269), np.float32(-0.062216494), np.float32(-0.038097933), np.float32(-0.079826415), np.float32(-0.022143986), np.float32(0.013129914), np.float32(-0.013720768), np.float32(0.054044228), np.float32(0.006002102), np.float32(0.035533007), np.float32(0.09304372), np.float32(-0.009914986), np.float32(0.011937423), np.float32(-0.013478389), np.float32(-0.014341029), np.float32(0.049914338), np.float32(-0.02901921), np.float32(0.05454998), np.float32(-0.038757198), np.float32(-4.269037e-08), np.float32(-0.11903053), np.float32(-0.04410915), np.float32(-0.06400817), np.float32(0.0467165), np.float32(0.017184949), np.float32(-0.11961498), np.float32(0.015785813), np.float32(0.1371112), np.float32(-0.051438488), np.float32(-0.0016219817), np.float32(0.061634235), np.float32(-0.005528963), np.float32(-0.043711826), np.float32(0.025018271), np.float32(0.096058324), np.float32(0.061646245), np.float32(0.06141596), np.float32(-0.007001274), np.float32(-0.040191606), np.float32(-0.064136215), np.float32(0.021566493), np.float32(0.048103515), np.float32(-0.034416504), np.float32(-0.013132446), np.float32(0.060042884), np.float32(0.025919443), np.float32(-0.0104813725), np.float32(0.091139), np.float32(0.0001802803), np.float32(0.049480647), np.float32(0.05561518), np.float32(0.016008422), np.float32(-0.027275834), np.float32(-0.022502137), np.float32(0.023006741), np.float32(0.092744924), np.float32(0.08534391), np.float32(-0.05096726), np.float32(0.05889486), np.float32(-0.062033378), np.float32(0.0391004), np.float32(0.0064364704), np.float32(-0.067593895), np.float32(0.16918446), np.float32(-0.018351778), np.float32(0.0068409834), np.float32(-0.03203684), np.float32(-0.12643269), np.float32(-0.0156362), np.float32(-0.04738944), np.float32(0.045367036), np.float32(-0.03882279), np.float32(-0.015384426), np.float32(0.03034142), np.float32(0.009793024), np.float32(0.029121757), np.float32(0.085669495), np.float32(0.0042796256), np.float32(0.0020328434), np.float32(0.034132574), np.float32(0.10491232), np.float32(0.092127144), np.float32(-0.022431172), np.float32(-0.028530167)]\n",
      "The Transformer Architecture\n",
      "The transformer architecture, introduced in the groundbreaking paper \"Attention is All You Need\" by Vaswani et al. in 2017, is the backbone of most LLMs. \n",
      "Unlike previous models that processed data sequentially, transformers use a mechanism called self-attention, allowing them to weigh the importance of different words \n",
      "in a sentence relative to one another. This attention mechanism enables LLMs to capture contextual relationships, making them adept at understanding nuances and subtleties in language.\n",
      "\n",
      "[np.float32(0.044522397), np.float32(-0.06236741), np.float32(0.012302764), np.float32(0.051261682), np.float32(0.044860598), np.float32(0.018403653), np.float32(0.039275046), np.float32(0.0047180634), np.float32(0.022009708), np.float32(-0.033288077), np.float32(-0.026742395), np.float32(0.04586959), np.float32(0.070795566), np.float32(-0.047540512), np.float32(0.011097405), np.float32(-0.011625623), np.float32(0.07205901), np.float32(0.027564168), np.float32(-0.07589826), np.float32(-0.06303938), np.float32(0.08805376), np.float32(0.038725503), np.float32(0.039941102), np.float32(0.013695281), np.float32(-0.05090281), np.float32(0.01593094), np.float32(-0.037596606), np.float32(0.03964582), np.float32(0.07972256), np.float32(-0.054251175), np.float32(0.021298662), np.float32(0.09493032), np.float32(0.014326199), np.float32(0.122291856), np.float32(-0.1113766), np.float32(0.03205066), np.float32(-0.05656955), np.float32(0.05310115), np.float32(0.030802974), np.float32(0.010407273), np.float32(-0.027665967), np.float32(-0.056533042), np.float32(-0.01717836), np.float32(0.049308192), np.float32(0.14512794), np.float32(0.0056993226), np.float32(-0.018608907), np.float32(0.009070486), np.float32(-0.058693737), np.float32(-0.006332571), np.float32(-0.113080084), np.float32(-0.06636543), np.float32(-0.023999056), np.float32(0.042710926), np.float32(-0.02165657), np.float32(0.1027135), np.float32(0.018050922), np.float32(0.021315575), np.float32(-0.01851079), np.float32(-0.04763171), np.float32(-0.013934462), np.float32(-0.13277239), np.float32(-0.09768692), np.float32(0.00021546418), np.float32(0.04492833), np.float32(-0.054608945), np.float32(-0.015394031), np.float32(0.038227946), np.float32(0.0051918416), np.float32(-0.04424915), np.float32(-0.019816432), np.float32(0.028654628), np.float32(0.06643749), np.float32(0.047980424), np.float32(-0.03361324), np.float32(-0.0065574264), np.float32(0.020427201), np.float32(-0.01602443), np.float32(0.07352014), np.float32(-0.010525621), np.float32(-0.0062500923), np.float32(-0.0066068578), np.float32(0.076741606), np.float32(0.0053445883), np.float32(0.091944985), np.float32(-0.03067077), np.float32(0.021754624), np.float32(-0.03240681), np.float32(0.028706215), np.float32(0.0075280713), np.float32(0.0005094495), np.float32(-0.090523206), np.float32(0.0023181268), np.float32(-0.01846392), np.float32(-0.06341313), np.float32(0.06656081), np.float32(-0.0039044803), np.float32(-0.053103242), np.float32(0.03548309), np.float32(0.0721088), np.float32(0.10154433), np.float32(0.11372925), np.float32(0.0011529375), np.float32(-0.012387904), np.float32(-0.04971526), np.float32(-0.054758064), np.float32(0.013457856), np.float32(0.09368555), np.float32(0.035914592), np.float32(-0.06757562), np.float32(-0.021240672), np.float32(0.10975437), np.float32(0.06742031), np.float32(-0.013309888), np.float32(0.030882545), np.float32(0.0002766359), np.float32(0.025774145), np.float32(-0.014754051), np.float32(0.037086997), np.float32(0.08315943), np.float32(-0.06377026), np.float32(0.01704553), np.float32(0.024283607), np.float32(-0.013890454), np.float32(0.017545845), np.float32(-0.097674124), np.float32(-0.0625706), np.float32(-4.8115427e-34), np.float32(0.0517509), np.float32(-0.018705694), np.float32(-0.04005955), np.float32(0.032836627), np.float32(-0.07252227), np.float32(0.00773454), np.float32(-0.010138763), np.float32(0.016894722), np.float32(-0.028320294), np.float32(0.01974971), np.float32(-0.009597221), np.float32(1.7945347e-05), np.float32(-0.033118635), np.float32(0.095796205), np.float32(0.00022642863), np.float32(-0.050396446), np.float32(-0.060503166), np.float32(0.03771221), np.float32(0.037038613), np.float32(-0.028747702), np.float32(0.0199956), np.float32(-0.01666887), np.float32(0.07948568), np.float32(-0.06573262), np.float32(0.020333914), np.float32(0.05407209), np.float32(0.08498366), np.float32(-0.04835124), np.float32(-0.03033485), np.float32(0.029540306), np.float32(-0.07580801), np.float32(-0.043149907), np.float32(-0.030916644), np.float32(-0.0017183279), np.float32(0.044471398), np.float32(-0.026192348), np.float32(-0.038166367), np.float32(0.054204047), np.float32(0.032776173), np.float32(-0.07979843), np.float32(-0.054373052), np.float32(0.021131068), np.float32(0.086764425), np.float32(-0.016010169), np.float32(-0.061845757), np.float32(-0.012905892), np.float32(-0.028863413), np.float32(-0.022941766), np.float32(-0.0104992725), np.float32(-0.014752783), np.float32(0.04060931), np.float32(-0.05940433), np.float32(-0.025372785), np.float32(0.00084407633), np.float32(0.028240357), np.float32(0.14715083), np.float32(0.020399524), np.float32(-0.014077265), np.float32(-0.05375132), np.float32(-0.0070864744), np.float32(0.027384266), np.float32(0.012465695), np.float32(-0.04489131), np.float32(0.058052216), np.float32(0.08229444), np.float32(0.0014435252), np.float32(-0.025146587), np.float32(0.07743948), np.float32(0.049142133), np.float32(-0.040707145), np.float32(-0.024397768), np.float32(-0.039567947), np.float32(0.017603226), np.float32(-0.025141155), np.float32(0.005677406), np.float32(-0.03235912), np.float32(0.029237714), np.float32(-0.02730119), np.float32(0.019058801), np.float32(0.0072876657), np.float32(0.080093324), np.float32(-0.010376734), np.float32(0.018815402), np.float32(-0.09100879), np.float32(-0.055051833), np.float32(-0.05159198), np.float32(0.045388404), np.float32(-0.113951325), np.float32(0.0014657431), np.float32(0.0017674931), np.float32(-0.06428143), np.float32(0.028566515), np.float32(-0.027237065), np.float32(0.046736807), np.float32(0.010164428), np.float32(1.0508566e-33), np.float32(-0.003072979), np.float32(-0.046164386), np.float32(-0.10171606), np.float32(0.1283658), np.float32(0.0017290624), np.float32(-0.0036255207), np.float32(-0.038550023), np.float32(0.042116053), np.float32(-0.018827604), np.float32(0.0040805023), np.float32(-0.025117738), np.float32(-0.097919434), np.float32(-0.024480043), np.float32(-0.0060926494), np.float32(-0.00440466), np.float32(-0.018169403), np.float32(-0.0075409724), np.float32(0.050658967), np.float32(0.026252972), np.float32(0.05513453), np.float32(-0.037788786), np.float32(0.036936246), np.float32(-0.06311113), np.float32(0.06324993), np.float32(0.019118939), np.float32(-0.021473473), np.float32(-0.019697428), np.float32(0.04877897), np.float32(-0.06896154), np.float32(0.10277801), np.float32(0.017542353), np.float32(-0.05339002), np.float32(0.04273769), np.float32(0.03869293), np.float32(-0.07582651), np.float32(-0.0030275725), np.float32(0.052014887), np.float32(-0.065807104), np.float32(0.020789472), np.float32(0.08050538), np.float32(0.08708933), np.float32(0.05239068), np.float32(-0.039458055), np.float32(-0.02017502), np.float32(-0.058198266), np.float32(-0.017586142), np.float32(-0.06590048), np.float32(-0.035730105), np.float32(0.03476874), np.float32(0.0052748867), np.float32(0.01056515), np.float32(-0.057440765), np.float32(-0.012596012), np.float32(-0.05054126), np.float32(-0.025206853), np.float32(-0.07342811), np.float32(0.0033636517), np.float32(-0.09303346), np.float32(-0.0041706497), np.float32(-0.042066686), np.float32(-0.05726503), np.float32(-0.0064361743), np.float32(-0.0040638377), np.float32(-0.094939), np.float32(0.062839955), np.float32(-0.073212154), np.float32(-0.05474548), np.float32(0.018809563), np.float32(0.020273205), np.float32(0.000260895), np.float32(0.06301892), np.float32(0.06315519), np.float32(-0.031391714), np.float32(-0.005409328), np.float32(-0.014561841), np.float32(-0.070250496), np.float32(0.015332119), np.float32(-0.037523624), np.float32(-0.08192683), np.float32(-0.09473179), np.float32(-0.013211538), np.float32(-0.011696574), np.float32(-0.03682935), np.float32(0.092689686), np.float32(-0.024636563), np.float32(0.030447854), np.float32(0.07150536), np.float32(0.07831964), np.float32(-0.015548985), np.float32(-0.057080317), np.float32(0.001069512), np.float32(0.02396467), np.float32(0.035237398), np.float32(0.023374218), np.float32(-0.08662757), np.float32(-4.003749e-08), np.float32(-0.11094504), np.float32(-0.045599524), np.float32(-0.03118848), np.float32(0.09216521), np.float32(0.01760028), np.float32(-0.042939115), np.float32(0.0049770474), np.float32(0.13048175), np.float32(-0.0359371), np.float32(-0.056413893), np.float32(0.042843632), np.float32(0.025103653), np.float32(-0.08870285), np.float32(-0.034310743), np.float32(0.07344323), np.float32(0.042307716), np.float32(0.06937649), np.float32(0.066584125), np.float32(-0.027340002), np.float32(-0.036843676), np.float32(0.14274171), np.float32(0.02583428), np.float32(-0.01846194), np.float32(0.022621343), np.float32(0.12394727), np.float32(-0.02095554), np.float32(-0.039483633), np.float32(0.11126363), np.float32(-0.003772453), np.float32(0.008045331), np.float32(0.006299991), np.float32(0.013495402), np.float32(-0.06985637), np.float32(0.012775662), np.float32(0.017472433), np.float32(0.06576655), np.float32(0.032850448), np.float32(-0.09103167), np.float32(0.041820724), np.float32(-0.008439907), np.float32(-0.010952915), np.float32(0.12227359), np.float32(-0.018093402), np.float32(0.043073446), np.float32(-0.011632796), np.float32(-0.017865276), np.float32(-0.018705968), np.float32(-0.06212268), np.float32(0.026451234), np.float32(-0.030319227), np.float32(0.03853952), np.float32(0.03223403), np.float32(0.04935317), np.float32(-0.005870285), np.float32(0.004267753), np.float32(0.0418906), np.float32(0.03715844), np.float32(-0.013548993), np.float32(-0.001407249), np.float32(0.04832087), np.float32(0.0040155817), np.float32(0.050480504), np.float32(-0.019676525), np.float32(-0.026869662)]\n",
      "Training Process\n",
      "LLMs undergo a two-phase training process: pre-training and fine-tuning. During pre-training, the model learns to predict the next word in a sentence given the preceding words. \n",
      "This phase involves processing vast corpuses of text from books, websites, and other sources, allowing the model to develop a broad understanding of language and general knowledge. \n",
      "In the fine-tuning phase, the model is trained on a more specific dataset tailored to a particular task, such as sentiment analysis, question answering, or summarization. \n",
      "Fine-tuning helps the model adapt its generalized knowledge to the nuances of specific applications.\n",
      "\n",
      "[np.float32(-0.04006183), np.float32(-0.05147839), np.float32(0.014471592), np.float32(-0.03503213), np.float32(0.013971565), np.float32(-0.038544662), np.float32(0.057117824), np.float32(0.028624555), np.float32(0.070365645), np.float32(0.004707533), np.float32(-0.04507084), np.float32(0.022934861), np.float32(0.11030428), np.float32(-0.0076117995), np.float32(0.1548881), np.float32(0.062514834), np.float32(0.1355978), np.float32(-0.03512985), np.float32(-0.011973598), np.float32(-0.029943755), np.float32(0.054785445), np.float32(0.054397292), np.float32(-0.0050950777), np.float32(0.054150116), np.float32(0.0011718706), np.float32(0.003119237), np.float32(-0.018570092), np.float32(0.029343886), np.float32(0.08784998), np.float32(-0.026439467), np.float32(0.021918148), np.float32(0.07657285), np.float32(0.022425748), np.float32(0.08082246), np.float32(-0.039467495), np.float32(0.09969399), np.float32(-0.019043785), np.float32(0.058313124), np.float32(-0.033324014), np.float32(-0.035889976), np.float32(-0.0679942), np.float32(-0.057905402), np.float32(-0.004153559), np.float32(-0.021105137), np.float32(0.056428306), np.float32(-0.029823797), np.float32(-0.041489396), np.float32(0.043620635), np.float32(-0.081168845), np.float32(0.051181488), np.float32(-0.039230037), np.float32(-0.045796853), np.float32(-0.0031924355), np.float32(-0.028058438), np.float32(-0.023196883), np.float32(0.036445852), np.float32(0.041657038), np.float32(0.020827383), np.float32(-0.025428992), np.float32(-0.057611242), np.float32(0.004816235), np.float32(-0.050755706), np.float32(-0.020266235), np.float32(0.052436978), np.float32(0.042155586), np.float32(-0.022252299), np.float32(-0.04256965), np.float32(0.10888436), np.float32(-0.039068483), np.float32(-0.124455996), np.float32(-0.025264524), np.float32(-0.058187533), np.float32(0.009040495), np.float32(0.116595544), np.float32(-0.08671016), np.float32(-0.09359336), np.float32(0.022498582), np.float32(-0.0458482), np.float32(0.048985366), np.float32(0.0131428605), np.float32(0.011105793), np.float32(0.023797281), np.float32(0.018005788), np.float32(0.10764298), np.float32(-0.052129176), np.float32(0.006017074), np.float32(0.005418624), np.float32(0.014568994), np.float32(0.00905571), np.float32(0.04782806), np.float32(0.034309924), np.float32(-0.11747284), np.float32(0.022229608), np.float32(0.01861097), np.float32(0.009019228), np.float32(-0.06047788), np.float32(0.007221407), np.float32(-0.057367124), np.float32(0.011459724), np.float32(0.0056622396), np.float32(0.06279022), np.float32(0.055876747), np.float32(0.02958494), np.float32(-0.076383255), np.float32(-0.009981005), np.float32(-0.014554368), np.float32(-0.027039075), np.float32(0.015530047), np.float32(0.047716692), np.float32(-0.02129497), np.float32(-0.012738963), np.float32(0.014776311), np.float32(0.007370034), np.float32(-0.0073676286), np.float32(0.05877932), np.float32(-0.117727235), np.float32(0.10289388), np.float32(-0.030815672), np.float32(0.024616076), np.float32(0.009095529), np.float32(-0.016103078), np.float32(0.030056454), np.float32(-0.007726457), np.float32(-0.04242017), np.float32(0.015261725), np.float32(-0.02848702), np.float32(-0.012207802), np.float32(1.6486007e-33), np.float32(0.04757524), np.float32(-0.0074676415), np.float32(-0.023941183), np.float32(0.11558995), np.float32(0.05847093), np.float32(0.04628659), np.float32(0.03250038), np.float32(0.060977027), np.float32(-0.044219036), np.float32(-0.010244136), np.float32(-0.06895997), np.float32(0.08510464), np.float32(0.03827971), np.float32(0.058969427), np.float32(-0.019760251), np.float32(-0.014537819), np.float32(-0.018191516), np.float32(-0.00012439725), np.float32(0.042363815), np.float32(-0.030449992), np.float32(-0.0363589), np.float32(0.00012955158), np.float32(0.10524271), np.float32(0.024432467), np.float32(0.04785689), np.float32(0.1049543), np.float32(0.06697417), np.float32(-0.06621448), np.float32(0.09676792), np.float32(0.00025482234), np.float32(-0.04028087), np.float32(-0.023175066), np.float32(-0.031246437), np.float32(-0.010704064), np.float32(0.03326052), np.float32(0.023612138), np.float32(-0.07380775), np.float32(-0.03425326), np.float32(0.060798064), np.float32(-0.020065878), np.float32(-0.023900004), np.float32(0.0063805915), np.float32(-0.0046828412), np.float32(-0.033249844), np.float32(-0.078020684), np.float32(0.021610493), np.float32(-0.024949754), np.float32(-0.00048522427), np.float32(0.0036523317), np.float32(0.0034480514), np.float32(0.040265374), np.float32(0.04147566), np.float32(-0.059308596), np.float32(0.019763509), np.float32(0.057737287), np.float32(-0.019522931), np.float32(-0.030560957), np.float32(-0.06319223), np.float32(-0.02742053), np.float32(-0.03373737), np.float32(-0.047589507), np.float32(-0.034971245), np.float32(-0.034364283), np.float32(0.037664212), np.float32(0.14391033), np.float32(-0.043934997), np.float32(0.028643971), np.float32(-0.019952858), np.float32(0.025303448), np.float32(-0.040975675), np.float32(-0.025501527), np.float32(0.00375477), np.float32(0.01399325), np.float32(0.019528689), np.float32(-0.07249991), np.float32(-0.051058855), np.float32(-0.030341474), np.float32(-0.030178193), np.float32(0.0517268), np.float32(0.033692114), np.float32(0.04130888), np.float32(-0.01819874), np.float32(-0.01168009), np.float32(-0.066030785), np.float32(0.005625019), np.float32(-0.035263184), np.float32(0.0024294187), np.float32(-0.11732337), np.float32(-0.038391516), np.float32(0.026093934), np.float32(-0.06765516), np.float32(-0.04182246), np.float32(-0.024195528), np.float32(0.12855154), np.float32(-0.028908847), np.float32(-2.2278649e-33), np.float32(-0.075556524), np.float32(-0.017360866), np.float32(-0.075293414), np.float32(0.11700485), np.float32(0.02404435), np.float32(-0.057218883), np.float32(-0.016564528), np.float32(0.03457929), np.float32(-0.029184345), np.float32(0.04248414), np.float32(-0.087028235), np.float32(-0.021642078), np.float32(-0.021207264), np.float32(0.013672688), np.float32(0.012554247), np.float32(-0.030003777), np.float32(-0.005760056), np.float32(-0.07830629), np.float32(-0.054812443), np.float32(-0.017101385), np.float32(-0.03674634), np.float32(0.10170655), np.float32(-0.04069872), np.float32(-0.021755705), np.float32(-0.0018645363), np.float32(0.0002491977), np.float32(-0.05653848), np.float32(-0.025827114), np.float32(-0.002532839), np.float32(0.030843776), np.float32(0.054174595), np.float32(-0.028262641), np.float32(0.023224887), np.float32(-0.041213408), np.float32(-0.085127294), np.float32(-0.008144838), np.float32(0.03982343), np.float32(0.06650477), np.float32(0.005506418), np.float32(-0.012977649), np.float32(0.09145268), np.float32(-0.006490964), np.float32(0.013576242), np.float32(-0.003116154), np.float32(-0.05431717), np.float32(0.006236517), np.float32(-0.09003354), np.float32(-0.04817786), np.float32(0.077979185), np.float32(-0.016677044), np.float32(0.008775253), np.float32(-0.12613603), np.float32(0.031694308), np.float32(-0.04707307), np.float32(-0.0230509), np.float32(-0.11374164), np.float32(0.017311918), np.float32(-0.03822407), np.float32(-0.0522322), np.float32(-0.077403404), np.float32(-0.053588282), np.float32(-0.031872194), np.float32(0.06641379), np.float32(-0.029149087), np.float32(0.037182648), np.float32(-0.0081983255), np.float32(-0.022641474), np.float32(0.05522558), np.float32(-0.0734188), np.float32(-0.052845918), np.float32(0.14315704), np.float32(-0.04461842), np.float32(-0.04014292), np.float32(-0.0050475644), np.float32(-0.008005051), np.float32(-0.008554815), np.float32(-0.02335046), np.float32(-0.083848394), np.float32(-0.018548638), np.float32(-0.09855998), np.float32(0.013426006), np.float32(-0.031205596), np.float32(0.038235106), np.float32(0.12041966), np.float32(-0.028835954), np.float32(-0.03203889), np.float32(0.08319944), np.float32(0.03865667), np.float32(-0.0009444765), np.float32(-0.013726842), np.float32(-0.0060173753), np.float32(0.08557191), np.float32(-0.002661255), np.float32(0.041615825), np.float32(-0.03439827), np.float32(-3.7749956e-08), np.float32(-0.09440426), np.float32(-0.08544899), np.float32(-0.06689144), np.float32(0.02674618), np.float32(-0.06382717), np.float32(0.0071412707), np.float32(-0.003987891), np.float32(0.08752176), np.float32(0.04648218), np.float32(0.009813707), np.float32(0.05888976), np.float32(-0.043628648), np.float32(-0.085408345), np.float32(-0.022554316), np.float32(0.112614796), np.float32(1.5287445e-05), np.float32(0.05186763), np.float32(0.048116047), np.float32(-0.016662054), np.float32(-0.045334462), np.float32(0.06696399), np.float32(0.043844208), np.float32(-0.0254091), np.float32(0.040116377), np.float32(0.073800415), np.float32(-0.0020153532), np.float32(-0.029680865), np.float32(0.05993766), np.float32(-0.010995361), np.float32(0.0014196057), np.float32(-0.032867946), np.float32(0.0022772506), np.float32(0.034967538), np.float32(0.050012454), np.float32(0.028704526), np.float32(-0.0070947465), np.float32(-0.026970621), np.float32(-0.0971229), np.float32(0.06356526), np.float32(-0.03158905), np.float32(-0.001611053), np.float32(0.019247472), np.float32(0.00095710607), np.float32(0.027835978), np.float32(-0.03960478), np.float32(-0.042712938), np.float32(0.023639977), np.float32(-0.13241829), np.float32(-0.032833636), np.float32(-0.019518187), np.float32(-0.06706659), np.float32(-0.009741304), np.float32(0.052661132), np.float32(0.02175082), np.float32(0.04731828), np.float32(0.0039338144), np.float32(0.047074992), np.float32(-0.0015877836), np.float32(0.07229356), np.float32(0.07177512), np.float32(-0.021745723), np.float32(0.1015359), np.float32(0.00082872255), np.float32(-0.025193019)]\n",
      "Applications of LLMs\n",
      "LLMs have a wide range of applications across various domains. In customer service, they power chatbots that can understand and respond to user inquiries, providing efficient support. \n",
      "In content creation, LLMs assist writers by generating ideas, drafting articles, or even composing poetry. They are also used in translation services, \n",
      "where their ability to grasp context helps produce more accurate translations. Additionally, LLMs can be applied in programming, where they can generate code snippets\n",
      "based on natural language descriptions, facilitating a more intuitive coding experience.\n",
      "\n",
      "[np.float32(0.0008003546), np.float32(0.0069477414), np.float32(-0.011666919), np.float32(0.019151554), np.float32(0.02359133), np.float32(-0.00843738), np.float32(-0.03434351), np.float32(-0.038662795), np.float32(0.035829566), np.float32(0.018918114), np.float32(-0.0078158025), np.float32(0.0005245845), np.float32(0.06566581), np.float32(-0.037398443), np.float32(0.0030306694), np.float32(0.017177394), np.float32(0.04161247), np.float32(0.022721458), np.float32(-0.05504909), np.float32(-0.05213791), np.float32(0.043071434), np.float32(0.0115329), np.float32(0.076397076), np.float32(0.07671566), np.float32(-0.051288053), np.float32(-0.076035395), np.float32(0.052320506), np.float32(-0.0048226044), np.float32(0.00070695864), np.float32(-0.03214326), np.float32(0.010556251), np.float32(-0.013528906), np.float32(0.039487522), np.float32(0.008735845), np.float32(-0.073283345), np.float32(-0.048291985), np.float32(0.008171281), np.float32(-0.021700034), np.float32(-0.03856731), np.float32(-0.0405564), np.float32(-0.0461405), np.float32(-0.04123445), np.float32(-0.066934444), np.float32(0.03550007), np.float32(0.010084107), np.float32(0.0058118775), np.float32(0.024935352), np.float32(-0.04658576), np.float32(-0.11397772), np.float32(-0.019010024), np.float32(-0.007683994), np.float32(-0.098099805), np.float32(0.008944636), np.float32(-0.027497724), np.float32(-0.08396394), np.float32(-0.07729898), np.float32(0.022603383), np.float32(0.022381794), np.float32(-0.021205114), np.float32(0.04929167), np.float32(-0.016217964), np.float32(-0.07409523), np.float32(-0.0778415), np.float32(0.079454616), np.float32(0.04374337), np.float32(0.058946658), np.float32(-0.077371225), np.float32(0.06328804), np.float32(-0.022271303), np.float32(-0.040148977), np.float32(0.013316388), np.float32(-0.046466406), np.float32(0.005161624), np.float32(0.018901147), np.float32(-0.044293042), np.float32(0.039340023), np.float32(-0.014323962), np.float32(0.07035585), np.float32(0.0871936), np.float32(-0.010282149), np.float32(0.04045513), np.float32(-0.049374513), np.float32(0.011402584), np.float32(0.07507602), np.float32(0.029457668), np.float32(-0.034341257), np.float32(0.029798679), np.float32(0.014766551), np.float32(-0.013337744), np.float32(0.06454194), np.float32(0.04125307), np.float32(-0.056347262), np.float32(0.101992905), np.float32(0.033284664), np.float32(0.03116543), np.float32(0.023127297), np.float32(0.02201625), np.float32(-0.06771839), np.float32(-0.03000639), np.float32(0.019721178), np.float32(-0.046841454), np.float32(0.050154798), np.float32(-0.024669247), np.float32(-0.04883655), np.float32(0.05012811), np.float32(0.023938233), np.float32(0.0082795825), np.float32(-0.029152775), np.float32(0.0076682298), np.float32(0.017564407), np.float32(-0.013254124), np.float32(0.052037694), np.float32(-0.035622347), np.float32(0.018693836), np.float32(0.1331963), np.float32(-0.05672387), np.float32(0.042091824), np.float32(-0.004888333), np.float32(-0.012876299), np.float32(-0.006432275), np.float32(-0.07728485), np.float32(0.00886553), np.float32(0.040299837), np.float32(-0.010708563), np.float32(0.070904374), np.float32(-0.06132859), np.float32(-0.123550445), np.float32(2.124008e-33), np.float32(0.02713647), np.float32(0.049286775), np.float32(-0.059671916), np.float32(-0.009996247), np.float32(0.037361518), np.float32(-0.029066281), np.float32(0.0032382926), np.float32(0.07845971), np.float32(0.015232664), np.float32(0.07275759), np.float32(0.014788588), np.float32(0.018585611), np.float32(-0.01177117), np.float32(0.05918418), np.float32(0.0069396775), np.float32(0.034540303), np.float32(-0.033356573), np.float32(0.05730111), np.float32(-0.03303716), np.float32(-0.012839044), np.float32(0.045779508), np.float32(-0.07436886), np.float32(0.052849118), np.float32(-0.039794516), np.float32(-0.008932189), np.float32(0.038892988), np.float32(0.01609002), np.float32(-0.010114449), np.float32(0.09420125), np.float32(0.03759881), np.float32(-0.060889103), np.float32(-0.042824343), np.float32(0.10992186), np.float32(-0.031067647), np.float32(0.04668646), np.float32(0.096288554), np.float32(-0.05023813), np.float32(0.034859315), np.float32(0.047042627), np.float32(0.022155533), np.float32(0.06638402), np.float32(-0.025463462), np.float32(0.018065525), np.float32(-0.01336967), np.float32(0.006596955), np.float32(-0.0026450478), np.float32(0.041457523), np.float32(-0.11644146), np.float32(0.022840546), np.float32(0.09595363), np.float32(0.025827581), np.float32(0.04553404), np.float32(0.006051825), np.float32(-0.021400608), np.float32(-0.032936677), np.float32(-0.024500998), np.float32(0.025876908), np.float32(-0.0674543), np.float32(-0.0660331), np.float32(-0.07145144), np.float32(-0.010701061), np.float32(-0.021409575), np.float32(-0.05163349), np.float32(0.014730445), np.float32(-0.015711783), np.float32(-0.025845727), np.float32(0.01840592), np.float32(-0.0012543312), np.float32(0.023399955), np.float32(-0.054933015), np.float32(0.019348804), np.float32(-0.008027883), np.float32(-0.090186484), np.float32(0.03319509), np.float32(-0.15104075), np.float32(0.016692305), np.float32(-0.049333144), np.float32(0.03788404), np.float32(0.109266035), np.float32(-0.08078281), np.float32(0.10300211), np.float32(0.023748197), np.float32(-0.032651436), np.float32(-0.037675925), np.float32(-0.03203544), np.float32(-0.04030184), np.float32(0.018039033), np.float32(-0.019474374), np.float32(-0.0052258424), np.float32(0.14618495), np.float32(0.0010932607), np.float32(-0.051128462), np.float32(-0.018484568), np.float32(0.09807522), np.float32(-0.028751003), np.float32(-3.2262835e-33), np.float32(-0.108445406), np.float32(0.021002166), np.float32(-0.08617772), np.float32(0.055423632), np.float32(0.010721906), np.float32(-0.013782142), np.float32(0.0052027106), np.float32(0.03567498), np.float32(0.06130008), np.float32(0.023546278), np.float32(-0.06599331), np.float32(-0.029016202), np.float32(0.020681253), np.float32(-0.009979426), np.float32(0.027990779), np.float32(-0.054012492), np.float32(0.014192412), np.float32(-0.057751734), np.float32(-0.023684291), np.float32(-0.047860306), np.float32(-0.0032604204), np.float32(0.066621624), np.float32(-0.06028592), np.float32(0.021119278), np.float32(0.0041468674), np.float32(0.054724954), np.float32(-0.021843804), np.float32(-0.062462196), np.float32(0.07245031), np.float32(0.05690381), np.float32(-0.010499835), np.float32(-0.02039159), np.float32(0.0019318975), np.float32(-0.04107048), np.float32(-0.023426052), np.float32(-0.053035848), np.float32(0.057910457), np.float32(0.07138982), np.float32(0.022553783), np.float32(-0.042255912), np.float32(0.0032111676), np.float32(0.038622092), np.float32(-0.13670745), np.float32(-0.012745889), np.float32(-0.026808929), np.float32(-0.04663164), np.float32(-0.040835768), np.float32(-0.08857812), np.float32(0.13223527), np.float32(-0.056444857), np.float32(0.007494467), np.float32(-0.08037523), np.float32(0.049096145), np.float32(-0.0065945396), np.float32(-0.028897539), np.float32(-0.05244471), np.float32(0.03085137), np.float32(-0.010800708), np.float32(0.041408993), np.float32(0.05593408), np.float32(0.02181913), np.float32(-0.02022537), np.float32(-0.045648158), np.float32(-0.024193441), np.float32(-0.032737035), np.float32(-0.03675413), np.float32(-0.0446539), np.float32(0.026699219), np.float32(-0.102361776), np.float32(0.0066500846), np.float32(0.06562893), np.float32(-0.033000544), np.float32(-0.110130906), np.float32(-0.096071646), np.float32(-0.035564315), np.float32(-0.02773319), np.float32(-0.009555533), np.float32(-0.035598047), np.float32(-0.072293565), np.float32(0.017259732), np.float32(0.14777575), np.float32(-0.057338577), np.float32(0.07407279), np.float32(0.072593726), np.float32(-0.06600375), np.float32(-0.022859901), np.float32(0.06205959), np.float32(0.024873199), np.float32(-0.118337214), np.float32(0.016610583), np.float32(-0.061600167), np.float32(0.057759464), np.float32(-0.08218445), np.float32(0.044259608), np.float32(-0.045082096), np.float32(-4.4130537e-08), np.float32(0.045097593), np.float32(-0.033239096), np.float32(0.049942765), np.float32(0.09332374), np.float32(-0.03816745), np.float32(-0.005679202), np.float32(-0.105454035), np.float32(0.10755041), np.float32(-0.018162215), np.float32(0.022508819), np.float32(0.02535795), np.float32(-0.0048982603), np.float32(-0.050994143), np.float32(0.050072525), np.float32(0.11958128), np.float32(0.057985067), np.float32(-0.039430212), np.float32(0.04255641), np.float32(0.002283089), np.float32(0.01858338), np.float32(0.03848776), np.float32(0.07142422), np.float32(-0.028469278), np.float32(-0.0693897), np.float32(0.10773467), np.float32(-0.004260509), np.float32(-0.06350605), np.float32(0.12847427), np.float32(0.019427327), np.float32(0.0814127), np.float32(0.01587003), np.float32(0.004422193), np.float32(0.027677085), np.float32(0.01690437), np.float32(-0.017829262), np.float32(-0.011480925), np.float32(-0.028911367), np.float32(-0.0051839873), np.float32(0.050239835), np.float32(0.041903175), np.float32(-0.027867962), np.float32(0.030832503), np.float32(0.06509843), np.float32(0.05336128), np.float32(-0.029386694), np.float32(-0.00905425), np.float32(-0.052386127), np.float32(0.018295903), np.float32(-0.061983775), np.float32(-0.013306855), np.float32(-0.06376307), np.float32(-0.016471235), np.float32(0.022797406), np.float32(0.012365169), np.float32(0.066558935), np.float32(0.00827139), np.float32(0.020540342), np.float32(0.010791116), np.float32(-0.055501804), np.float32(0.03665167), np.float32(0.1182147), np.float32(-0.021162428), np.float32(0.0052425615), np.float32(-0.048460063)]\n",
      "Ethical Considerations\n",
      "Despite their capabilities, LLMs raise significant ethical concerns. The data used to train these models often contains biases, \n",
      "leading to outputs that may perpetuate stereotypes or misinformation. There is also the risk of misuse, where LLMs could be employed to generate misleading \n",
      "information or deepfakes. Consequently, developers and researchers are increasingly focusing on implementing ethical guidelines and fairness measures in the \n",
      "development and deployment of LLMs. Transparency, accountability, and user education are crucial in addressing these challenges.\n",
      "\n"
     ]
    }
   ],
   "source": [
    "query_results = collection.query(\n",
    "    expr=\"\",\n",
    "    output_fields=[\"id\", \"embedding\", \"text\"],\n",
    "    limit=5  # Specify the number of results to retrieve\n",
    ")\n",
    "\n",
    "# Display the query results\n",
    "for result in query_results:\n",
    "    print(result[\"embedding\"])\n",
    "    print(result[\"text\"])\n",
    "    print()"
   ]
  },
  {
   "cell_type": "code",
   "execution_count": null,
   "metadata": {},
   "outputs": [],
   "source": []
  },
  {
   "cell_type": "markdown",
   "metadata": {},
   "source": [
    "### Milvus retriever"
   ]
  },
  {
   "cell_type": "code",
   "execution_count": 20,
   "metadata": {},
   "outputs": [],
   "source": [
    "from langchain.embeddings import HuggingFaceEmbeddings\n",
    "from langchain.vectorstores import Milvus\n",
    "from langchain_core.prompts import ChatPromptTemplate\n",
    "from langchain.chains import create_retrieval_chain\n",
    "from langchain.chains.combine_documents import create_stuff_documents_chain\n",
    "from langchain_community.llms import Ollama\n",
    "from langchain.chains import RetrievalQA"
   ]
  },
  {
   "cell_type": "code",
   "execution_count": null,
   "metadata": {},
   "outputs": [],
   "source": [
    "def create_milvus_retriever(\n",
    "    collection_name,\n",
    "    milvus_host=\"127.0.0.1\",\n",
    "    milvus_port=\"19530\",\n",
    "    embedder_model=\"all-MiniLM-L6-v2\",\n",
    "):\n",
    "    try:\n",
    "        embeddings = HuggingFaceEmbeddings(model_name=embedder_model)\n",
    "\n",
    "        retriever = Milvus(\n",
    "            embedding_function=embeddings,\n",
    "            collection_name=collection_name,\n",
    "            connection_args={\"host\": milvus_host, \"port\": milvus_port},\n",
    "            vector_field=\"embedding\"\n",
    "        )\n",
    "\n",
    "        return retriever\n",
    "    except Exception as e:\n",
    "        print(f\"Error creating Milvus retriever: {e}\")\n",
    "        return None"
   ]
  },
  {
   "cell_type": "code",
   "execution_count": 18,
   "metadata": {},
   "outputs": [],
   "source": [
    "retriever = create_milvus_retriever(\"multi_file_collection\")"
   ]
  },
  {
   "cell_type": "code",
   "execution_count": 22,
   "metadata": {},
   "outputs": [
    {
     "data": {
      "text/plain": [
       "VectorStoreRetriever(tags=['Milvus', 'HuggingFaceEmbeddings'], vectorstore=<langchain_community.vectorstores.milvus.Milvus object at 0x17b39bdd0>, search_kwargs={})"
      ]
     },
     "execution_count": 22,
     "metadata": {},
     "output_type": "execute_result"
    }
   ],
   "source": [
    "retriever.as_retriever()"
   ]
  },
  {
   "cell_type": "code",
   "execution_count": null,
   "metadata": {},
   "outputs": [],
   "source": [
    "prompt = ChatPromptTemplate.from_template(\n",
    "            \"\"\"Answer the following query based on given context.\n",
    "                Think step by step before querying a detailed answer.\n",
    "                <context>\n",
    "                {context}\n",
    "                </context>\n",
    "                Query:{question}\n",
    "                  \"\"\"\n",
    "        )\n",
    "\n",
    "llm = Ollama(model=\"llama2\")\n",
    "\n",
    "# document_chain = create_stuff_documents_chain(llm, prompt)\n",
    "# retrieval_chain = create_retrieval_chain(retriever, document_chain)\n",
    "# # response = llm.generate({\"prompt\": prompt})\n",
    "# response = retrieval_chain.invoke(f\"question: {query}\")\n",
    "\n",
    "retrieval_chain = RetrievalQA.from_chain_type(\n",
    "    llm=llm,\n",
    "    retriever=retriever.as_retriever(),  \n",
    "    chain_type=\"stuff\",  \n",
    "    return_source_documents=True, \n",
    ")"
   ]
  },
  {
   "cell_type": "code",
   "execution_count": null,
   "metadata": {},
   "outputs": [],
   "source": []
  }
 ],
 "metadata": {
  "kernelspec": {
   "display_name": "llms",
   "language": "python",
   "name": "llms"
  },
  "language_info": {
   "codemirror_mode": {
    "name": "ipython",
    "version": 3
   },
   "file_extension": ".py",
   "mimetype": "text/x-python",
   "name": "python",
   "nbconvert_exporter": "python",
   "pygments_lexer": "ipython3",
   "version": "3.12.7"
  }
 },
 "nbformat": 4,
 "nbformat_minor": 2
}
